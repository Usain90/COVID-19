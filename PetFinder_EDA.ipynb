{
  "nbformat": 4,
  "nbformat_minor": 0,
  "metadata": {
    "colab": {
      "name": "PetFinder_EDA.ipynb",
      "private_outputs": true,
      "provenance": [],
      "authorship_tag": "ABX9TyObWXa6biLO+GdIT0Ebxq0o",
      "include_colab_link": true
    },
    "kernelspec": {
      "name": "python3",
      "display_name": "Python 3"
    },
    "language_info": {
      "name": "python"
    }
  },
  "cells": [
    {
      "cell_type": "markdown",
      "metadata": {
        "id": "view-in-github",
        "colab_type": "text"
      },
      "source": [
        "<a href=\"https://colab.research.google.com/github/Usain90/COVID-19/blob/master/PetFinder_EDA.ipynb\" target=\"_parent\"><img src=\"https://colab.research.google.com/assets/colab-badge.svg\" alt=\"Open In Colab\"/></a>"
      ]
    },
    {
      "cell_type": "code",
      "metadata": {
        "id": "4ikdyv6g_cxd"
      },
      "source": [
        "#importing libraries\n",
        "import numpy as np \n",
        "import pandas as pd \n",
        "import matplotlib.pyplot as plt\n",
        "import seaborn as sns \n",
        "from wordcloud import WordCloud\n",
        "from google.colab import files\n"
      ],
      "execution_count": null,
      "outputs": []
    },
    {
      "cell_type": "code",
      "metadata": {
        "id": "HzQBwfWDA9uY"
      },
      "source": [
        "# solve the problem that can not load local files present on a computer directly into the google colab\n",
        "from google.colab import files\n",
        "uploaded = files.upload()\n"
      ],
      "execution_count": null,
      "outputs": []
    },
    {
      "cell_type": "code",
      "metadata": {
        "id": "Sk9IX-5Q_qAo"
      },
      "source": [
        "# read train dataset\n",
        "train = pd.read_csv(\"train.csv\")"
      ],
      "execution_count": null,
      "outputs": []
    },
    {
      "cell_type": "code",
      "metadata": {
        "id": "1v3z6HGRAXhe"
      },
      "source": [
        "train.shape\n"
      ],
      "execution_count": null,
      "outputs": []
    },
    {
      "cell_type": "code",
      "metadata": {
        "id": "Uwy1qvBYCgDX"
      },
      "source": [
        "train.head()"
      ],
      "execution_count": null,
      "outputs": []
    },
    {
      "cell_type": "code",
      "metadata": {
        "id": "CNB4cS-1C08a"
      },
      "source": [
        "train['AdoptionSpeed'].value_counts().sort_index(ascending= False).plot(kind='barh', color='teal');plt.title('Adoption Speed classes count')"
      ],
      "execution_count": null,
      "outputs": []
    },
    {
      "cell_type": "code",
      "metadata": {
        "id": "-FtAdkfoOw7V"
      },
      "source": [
        "train['has_vedio'] = np.where(train['VideoAmt']>0,1,0)"
      ],
      "execution_count": null,
      "outputs": []
    },
    {
      "cell_type": "code",
      "metadata": {
        "id": "V3JRsWIABzYc"
      },
      "source": [
        "np.corrcoef(train['has_vedio'],train ['AdoptionSpeed'])\n",
        "sns.scatterplot(x=train['has_vedio'], y=train['AdoptionSpeed'], data=train)\n"
      ],
      "execution_count": null,
      "outputs": []
    },
    {
      "cell_type": "code",
      "metadata": {
        "id": "HzcyTxAxNyYa"
      },
      "source": [
        "train['AdoptionSpeedBinario'] = np.where(train['AdoptionSpeed']<1,0,1)\n",
        "train['AdoptionSpeedBinario'].value_counts()"
      ],
      "execution_count": null,
      "outputs": []
    },
    {
      "cell_type": "code",
      "metadata": {
        "id": "nr8gu2kgBKLz"
      },
      "source": [
        "np.corrcoef(train['has_vedio'],train ['AdoptionSpeedBinario'])\n",
        "\n"
      ],
      "execution_count": null,
      "outputs": []
    },
    {
      "cell_type": "code",
      "metadata": {
        "id": "WKUsZa8CRchZ"
      },
      "source": [
        "train.head()"
      ],
      "execution_count": null,
      "outputs": []
    },
    {
      "cell_type": "code",
      "metadata": {
        "id": "Cknxkr2pRfXE"
      },
      "source": [
        "cormat = train.corr()\n",
        "round(cormat,2)"
      ],
      "execution_count": null,
      "outputs": []
    },
    {
      "cell_type": "code",
      "metadata": {
        "id": "ZHx0mKv_TBDR"
      },
      "source": [
        "train1=train[[\"Type\",\"Name\",\"Age\",\"Gender\",\"MaturitySize\",\"FurLength\",\"Vaccinated\",\"Dewormed\",\"Sterilized\",\"Health\",\"Quantity\",\"Fee\",\"State\",\"VideoAmt\",\"PhotoAmt\",\"AdoptionSpeed\"]]\n"
      ],
      "execution_count": null,
      "outputs": []
    },
    {
      "cell_type": "code",
      "metadata": {
        "id": "R7c-fl7_UXnf"
      },
      "source": [
        "traindog = train1.loc[train1['Type'] == 1]\n",
        "traindog"
      ],
      "execution_count": null,
      "outputs": []
    },
    {
      "cell_type": "code",
      "metadata": {
        "id": "OYHATAtbV8Gg"
      },
      "source": [
        "traincat = train1.loc[train1['Type'] == 2]\n",
        "traincat"
      ],
      "execution_count": null,
      "outputs": []
    },
    {
      "cell_type": "code",
      "metadata": {
        "id": "GMLVg7g1W7py"
      },
      "source": [
        "corrmatrixdog= traindog.corr()\n",
        "round(cormat,2)"
      ],
      "execution_count": null,
      "outputs": []
    },
    {
      "cell_type": "code",
      "metadata": {
        "id": "Zzd8D92FXBYN"
      },
      "source": [
        "corrmatrixcat= traindog.corr()\n",
        "round(corrmatrixcat,2)\n"
      ],
      "execution_count": null,
      "outputs": []
    },
    {
      "cell_type": "code",
      "metadata": {
        "id": "ruMw8tccXRxt"
      },
      "source": [
        "sns.heatmap(corrmatrixcat);\n"
      ],
      "execution_count": null,
      "outputs": []
    }
  ]
}